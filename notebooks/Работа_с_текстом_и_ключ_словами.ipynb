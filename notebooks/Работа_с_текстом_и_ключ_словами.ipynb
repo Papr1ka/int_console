{
  "nbformat": 4,
  "nbformat_minor": 0,
  "metadata": {
    "colab": {
      "provenance": []
    },
    "kernelspec": {
      "name": "python3",
      "display_name": "Python 3"
    },
    "language_info": {
      "name": "python"
    }
  },
  "cells": [
    {
      "cell_type": "code",
      "source": [
        "!pip install pymorphy3"
      ],
      "metadata": {
        "colab": {
          "base_uri": "https://localhost:8080/"
        },
        "id": "JZ2wqPKXseSp",
        "outputId": "8325de56-26b1-4668-df73-57789c2938a2"
      },
      "execution_count": null,
      "outputs": [
        {
          "output_type": "stream",
          "name": "stdout",
          "text": [
            "Collecting pymorphy3\n",
            "  Downloading pymorphy3-2.0.2-py3-none-any.whl.metadata (1.8 kB)\n",
            "Collecting dawg-python>=0.7.1 (from pymorphy3)\n",
            "  Downloading DAWG_Python-0.7.2-py2.py3-none-any.whl.metadata (7.0 kB)\n",
            "Collecting pymorphy3-dicts-ru (from pymorphy3)\n",
            "  Downloading pymorphy3_dicts_ru-2.4.417150.4580142-py2.py3-none-any.whl.metadata (2.0 kB)\n",
            "Downloading pymorphy3-2.0.2-py3-none-any.whl (53 kB)\n",
            "\u001b[2K   \u001b[90m━━━━━━━━━━━━━━━━━━━━━━━━━━━━━━━━━━━━━━━━\u001b[0m \u001b[32m53.8/53.8 kB\u001b[0m \u001b[31m2.3 MB/s\u001b[0m eta \u001b[36m0:00:00\u001b[0m\n",
            "\u001b[?25hDownloading DAWG_Python-0.7.2-py2.py3-none-any.whl (11 kB)\n",
            "Downloading pymorphy3_dicts_ru-2.4.417150.4580142-py2.py3-none-any.whl (8.4 MB)\n",
            "\u001b[2K   \u001b[90m━━━━━━━━━━━━━━━━━━━━━━━━━━━━━━━━━━━━━━━━\u001b[0m \u001b[32m8.4/8.4 MB\u001b[0m \u001b[31m45.4 MB/s\u001b[0m eta \u001b[36m0:00:00\u001b[0m\n",
            "\u001b[?25hInstalling collected packages: pymorphy3-dicts-ru, dawg-python, pymorphy3\n",
            "Successfully installed dawg-python-0.7.2 pymorphy3-2.0.2 pymorphy3-dicts-ru-2.4.417150.4580142\n"
          ]
        }
      ]
    },
    {
      "cell_type": "code",
      "source": [
        "import pandas as pd\n",
        "\n",
        "# Загрузка \"обучающего\" датасета, из которого будут браться ключевые слова для фраз\n",
        "data = pd.read_csv('/content/train_data_with_transcriptions.csv')\n",
        "data.head(2)"
      ],
      "metadata": {
        "colab": {
          "base_uri": "https://localhost:8080/",
          "height": 112
        },
        "id": "aLBjYT1c8Vyh",
        "outputId": "5e3c7c55-73c9-4335-e6fc-00f8bbd0b2d7"
      },
      "execution_count": null,
      "outputs": [
        {
          "output_type": "execute_result",
          "data": {
            "text/plain": [
              "                                       id                               text  \\\n",
              "0  66b066c7-76ff-11ee-93f5-c09bf4619c03_2  протянуть на восемнадцать вагонов   \n",
              "1  88f68b60-76ff-11ee-91db-c09bf4619c03_2        протянуть на восемь вагонов   \n",
              "\n",
              "   label   transcription  \n",
              "0     10             NaN  \n",
              "1     10  поздно вагонов  "
            ],
            "text/html": [
              "\n",
              "  <div id=\"df-f449b2c5-cf48-445e-9fc7-87551df3fd12\" class=\"colab-df-container\">\n",
              "    <div>\n",
              "<style scoped>\n",
              "    .dataframe tbody tr th:only-of-type {\n",
              "        vertical-align: middle;\n",
              "    }\n",
              "\n",
              "    .dataframe tbody tr th {\n",
              "        vertical-align: top;\n",
              "    }\n",
              "\n",
              "    .dataframe thead th {\n",
              "        text-align: right;\n",
              "    }\n",
              "</style>\n",
              "<table border=\"1\" class=\"dataframe\">\n",
              "  <thead>\n",
              "    <tr style=\"text-align: right;\">\n",
              "      <th></th>\n",
              "      <th>id</th>\n",
              "      <th>text</th>\n",
              "      <th>label</th>\n",
              "      <th>transcription</th>\n",
              "    </tr>\n",
              "  </thead>\n",
              "  <tbody>\n",
              "    <tr>\n",
              "      <th>0</th>\n",
              "      <td>66b066c7-76ff-11ee-93f5-c09bf4619c03_2</td>\n",
              "      <td>протянуть на восемнадцать вагонов</td>\n",
              "      <td>10</td>\n",
              "      <td>NaN</td>\n",
              "    </tr>\n",
              "    <tr>\n",
              "      <th>1</th>\n",
              "      <td>88f68b60-76ff-11ee-91db-c09bf4619c03_2</td>\n",
              "      <td>протянуть на восемь вагонов</td>\n",
              "      <td>10</td>\n",
              "      <td>поздно вагонов</td>\n",
              "    </tr>\n",
              "  </tbody>\n",
              "</table>\n",
              "</div>\n",
              "    <div class=\"colab-df-buttons\">\n",
              "\n",
              "  <div class=\"colab-df-container\">\n",
              "    <button class=\"colab-df-convert\" onclick=\"convertToInteractive('df-f449b2c5-cf48-445e-9fc7-87551df3fd12')\"\n",
              "            title=\"Convert this dataframe to an interactive table.\"\n",
              "            style=\"display:none;\">\n",
              "\n",
              "  <svg xmlns=\"http://www.w3.org/2000/svg\" height=\"24px\" viewBox=\"0 -960 960 960\">\n",
              "    <path d=\"M120-120v-720h720v720H120Zm60-500h600v-160H180v160Zm220 220h160v-160H400v160Zm0 220h160v-160H400v160ZM180-400h160v-160H180v160Zm440 0h160v-160H620v160ZM180-180h160v-160H180v160Zm440 0h160v-160H620v160Z\"/>\n",
              "  </svg>\n",
              "    </button>\n",
              "\n",
              "  <style>\n",
              "    .colab-df-container {\n",
              "      display:flex;\n",
              "      gap: 12px;\n",
              "    }\n",
              "\n",
              "    .colab-df-convert {\n",
              "      background-color: #E8F0FE;\n",
              "      border: none;\n",
              "      border-radius: 50%;\n",
              "      cursor: pointer;\n",
              "      display: none;\n",
              "      fill: #1967D2;\n",
              "      height: 32px;\n",
              "      padding: 0 0 0 0;\n",
              "      width: 32px;\n",
              "    }\n",
              "\n",
              "    .colab-df-convert:hover {\n",
              "      background-color: #E2EBFA;\n",
              "      box-shadow: 0px 1px 2px rgba(60, 64, 67, 0.3), 0px 1px 3px 1px rgba(60, 64, 67, 0.15);\n",
              "      fill: #174EA6;\n",
              "    }\n",
              "\n",
              "    .colab-df-buttons div {\n",
              "      margin-bottom: 4px;\n",
              "    }\n",
              "\n",
              "    [theme=dark] .colab-df-convert {\n",
              "      background-color: #3B4455;\n",
              "      fill: #D2E3FC;\n",
              "    }\n",
              "\n",
              "    [theme=dark] .colab-df-convert:hover {\n",
              "      background-color: #434B5C;\n",
              "      box-shadow: 0px 1px 3px 1px rgba(0, 0, 0, 0.15);\n",
              "      filter: drop-shadow(0px 1px 2px rgba(0, 0, 0, 0.3));\n",
              "      fill: #FFFFFF;\n",
              "    }\n",
              "  </style>\n",
              "\n",
              "    <script>\n",
              "      const buttonEl =\n",
              "        document.querySelector('#df-f449b2c5-cf48-445e-9fc7-87551df3fd12 button.colab-df-convert');\n",
              "      buttonEl.style.display =\n",
              "        google.colab.kernel.accessAllowed ? 'block' : 'none';\n",
              "\n",
              "      async function convertToInteractive(key) {\n",
              "        const element = document.querySelector('#df-f449b2c5-cf48-445e-9fc7-87551df3fd12');\n",
              "        const dataTable =\n",
              "          await google.colab.kernel.invokeFunction('convertToInteractive',\n",
              "                                                    [key], {});\n",
              "        if (!dataTable) return;\n",
              "\n",
              "        const docLinkHtml = 'Like what you see? Visit the ' +\n",
              "          '<a target=\"_blank\" href=https://colab.research.google.com/notebooks/data_table.ipynb>data table notebook</a>'\n",
              "          + ' to learn more about interactive tables.';\n",
              "        element.innerHTML = '';\n",
              "        dataTable['output_type'] = 'display_data';\n",
              "        await google.colab.output.renderOutput(dataTable, element);\n",
              "        const docLink = document.createElement('div');\n",
              "        docLink.innerHTML = docLinkHtml;\n",
              "        element.appendChild(docLink);\n",
              "      }\n",
              "    </script>\n",
              "  </div>\n",
              "\n",
              "\n",
              "<div id=\"df-f66800d5-b630-4fbe-b5dd-148668471235\">\n",
              "  <button class=\"colab-df-quickchart\" onclick=\"quickchart('df-f66800d5-b630-4fbe-b5dd-148668471235')\"\n",
              "            title=\"Suggest charts\"\n",
              "            style=\"display:none;\">\n",
              "\n",
              "<svg xmlns=\"http://www.w3.org/2000/svg\" height=\"24px\"viewBox=\"0 0 24 24\"\n",
              "     width=\"24px\">\n",
              "    <g>\n",
              "        <path d=\"M19 3H5c-1.1 0-2 .9-2 2v14c0 1.1.9 2 2 2h14c1.1 0 2-.9 2-2V5c0-1.1-.9-2-2-2zM9 17H7v-7h2v7zm4 0h-2V7h2v10zm4 0h-2v-4h2v4z\"/>\n",
              "    </g>\n",
              "</svg>\n",
              "  </button>\n",
              "\n",
              "<style>\n",
              "  .colab-df-quickchart {\n",
              "      --bg-color: #E8F0FE;\n",
              "      --fill-color: #1967D2;\n",
              "      --hover-bg-color: #E2EBFA;\n",
              "      --hover-fill-color: #174EA6;\n",
              "      --disabled-fill-color: #AAA;\n",
              "      --disabled-bg-color: #DDD;\n",
              "  }\n",
              "\n",
              "  [theme=dark] .colab-df-quickchart {\n",
              "      --bg-color: #3B4455;\n",
              "      --fill-color: #D2E3FC;\n",
              "      --hover-bg-color: #434B5C;\n",
              "      --hover-fill-color: #FFFFFF;\n",
              "      --disabled-bg-color: #3B4455;\n",
              "      --disabled-fill-color: #666;\n",
              "  }\n",
              "\n",
              "  .colab-df-quickchart {\n",
              "    background-color: var(--bg-color);\n",
              "    border: none;\n",
              "    border-radius: 50%;\n",
              "    cursor: pointer;\n",
              "    display: none;\n",
              "    fill: var(--fill-color);\n",
              "    height: 32px;\n",
              "    padding: 0;\n",
              "    width: 32px;\n",
              "  }\n",
              "\n",
              "  .colab-df-quickchart:hover {\n",
              "    background-color: var(--hover-bg-color);\n",
              "    box-shadow: 0 1px 2px rgba(60, 64, 67, 0.3), 0 1px 3px 1px rgba(60, 64, 67, 0.15);\n",
              "    fill: var(--button-hover-fill-color);\n",
              "  }\n",
              "\n",
              "  .colab-df-quickchart-complete:disabled,\n",
              "  .colab-df-quickchart-complete:disabled:hover {\n",
              "    background-color: var(--disabled-bg-color);\n",
              "    fill: var(--disabled-fill-color);\n",
              "    box-shadow: none;\n",
              "  }\n",
              "\n",
              "  .colab-df-spinner {\n",
              "    border: 2px solid var(--fill-color);\n",
              "    border-color: transparent;\n",
              "    border-bottom-color: var(--fill-color);\n",
              "    animation:\n",
              "      spin 1s steps(1) infinite;\n",
              "  }\n",
              "\n",
              "  @keyframes spin {\n",
              "    0% {\n",
              "      border-color: transparent;\n",
              "      border-bottom-color: var(--fill-color);\n",
              "      border-left-color: var(--fill-color);\n",
              "    }\n",
              "    20% {\n",
              "      border-color: transparent;\n",
              "      border-left-color: var(--fill-color);\n",
              "      border-top-color: var(--fill-color);\n",
              "    }\n",
              "    30% {\n",
              "      border-color: transparent;\n",
              "      border-left-color: var(--fill-color);\n",
              "      border-top-color: var(--fill-color);\n",
              "      border-right-color: var(--fill-color);\n",
              "    }\n",
              "    40% {\n",
              "      border-color: transparent;\n",
              "      border-right-color: var(--fill-color);\n",
              "      border-top-color: var(--fill-color);\n",
              "    }\n",
              "    60% {\n",
              "      border-color: transparent;\n",
              "      border-right-color: var(--fill-color);\n",
              "    }\n",
              "    80% {\n",
              "      border-color: transparent;\n",
              "      border-right-color: var(--fill-color);\n",
              "      border-bottom-color: var(--fill-color);\n",
              "    }\n",
              "    90% {\n",
              "      border-color: transparent;\n",
              "      border-bottom-color: var(--fill-color);\n",
              "    }\n",
              "  }\n",
              "</style>\n",
              "\n",
              "  <script>\n",
              "    async function quickchart(key) {\n",
              "      const quickchartButtonEl =\n",
              "        document.querySelector('#' + key + ' button');\n",
              "      quickchartButtonEl.disabled = true;  // To prevent multiple clicks.\n",
              "      quickchartButtonEl.classList.add('colab-df-spinner');\n",
              "      try {\n",
              "        const charts = await google.colab.kernel.invokeFunction(\n",
              "            'suggestCharts', [key], {});\n",
              "      } catch (error) {\n",
              "        console.error('Error during call to suggestCharts:', error);\n",
              "      }\n",
              "      quickchartButtonEl.classList.remove('colab-df-spinner');\n",
              "      quickchartButtonEl.classList.add('colab-df-quickchart-complete');\n",
              "    }\n",
              "    (() => {\n",
              "      let quickchartButtonEl =\n",
              "        document.querySelector('#df-f66800d5-b630-4fbe-b5dd-148668471235 button');\n",
              "      quickchartButtonEl.style.display =\n",
              "        google.colab.kernel.accessAllowed ? 'block' : 'none';\n",
              "    })();\n",
              "  </script>\n",
              "</div>\n",
              "    </div>\n",
              "  </div>\n"
            ],
            "application/vnd.google.colaboratory.intrinsic+json": {
              "type": "dataframe",
              "variable_name": "data",
              "summary": "{\n  \"name\": \"data\",\n  \"rows\": 4957,\n  \"fields\": [\n    {\n      \"column\": \"id\",\n      \"properties\": {\n        \"dtype\": \"string\",\n        \"num_unique_values\": 4957,\n        \"samples\": [\n          \"811cb2b9-76ff-11ee-922c-c09bf4619c03\",\n          \"67816cb7-76ff-11ee-8602-c09bf4619c03_1\",\n          \"790de5cd-76fe-11ee-b697-c09bf4619c03\"\n        ],\n        \"semantic_type\": \"\",\n        \"description\": \"\"\n      }\n    },\n    {\n      \"column\": \"text\",\n      \"properties\": {\n        \"dtype\": \"category\",\n        \"num_unique_values\": 75,\n        \"samples\": [\n          \"\\u043e\\u0441\\u0430\\u0434\\u0438\\u0442\\u044c \\u043d\\u0430 \\u0447\\u0435\\u0442\\u044b\\u0440\\u0435 \\u0432\\u0430\\u0433\\u043e\\u043d\\u0430\",\n          \"\\u043e\\u0441\\u0430\\u0434\\u0438\\u0442\\u044c \\u043d\\u0430 \\u0434\\u0432\\u0430\\u0434\\u0446\\u0430\\u0442\\u044c \\u0432\\u043e\\u0441\\u0435\\u043c\\u044c \\u0432\\u0430\\u0433\\u043e\\u043d\\u043e\\u0432\",\n          \"\\u0432\\u043f\\u0435\\u0440\\u0435\\u0434 \\u0441 \\u0431\\u0430\\u0448\\u043c\\u0430\\u043a\\u0430\"\n        ],\n        \"semantic_type\": \"\",\n        \"description\": \"\"\n      }\n    },\n    {\n      \"column\": \"label\",\n      \"properties\": {\n        \"dtype\": \"number\",\n        \"std\": 4,\n        \"min\": 0,\n        \"max\": 22,\n        \"num_unique_values\": 23,\n        \"samples\": [\n          15,\n          3,\n          10\n        ],\n        \"semantic_type\": \"\",\n        \"description\": \"\"\n      }\n    },\n    {\n      \"column\": \"transcription\",\n      \"properties\": {\n        \"dtype\": \"category\",\n        \"num_unique_values\": 1288,\n        \"samples\": [\n          \"\\u043e\\u0441\\u0430\\u0434\\u0438\\u0442\\u044c \\u043d\\u0430 \\u0441\\u0435\\u043c\\u043d\\u0430\\u0434\\u0446\\u0430\\u0442\\u044c \\u0432\\u0430\\u0433\\u043e\\u043d\\u0430\",\n          \"\\u043f\\u0440\\u043e\\u0442\\u044f\\u043d\\u0443\\u0442\\u044c \\u043d\\u0430 \\u0444\\u0438\\u043d\\u0430\\u043d\\u0441 \\u0432\\u0430\\u0433\\u043e\\u043d\",\n          \"\\u0437\\u0430\\u0445\\u043e\\u0436\\u0443 \\u0432 \\u043c\\u0435\\u0436\\u0432\\u0430\\u0433\\u043e\\u043d\\u043d\\u043e\\u0435\"\n        ],\n        \"semantic_type\": \"\",\n        \"description\": \"\"\n      }\n    }\n  ]\n}"
            }
          },
          "metadata": {},
          "execution_count": 2
        }
      ]
    },
    {
      "cell_type": "code",
      "source": [
        "data.hist(column='label')"
      ],
      "metadata": {
        "colab": {
          "base_uri": "https://localhost:8080/",
          "height": 470
        },
        "id": "RMt9Jhmm4ak4",
        "outputId": "2a3dc377-04fe-4bb9-8d50-ea647ac5161d"
      },
      "execution_count": null,
      "outputs": [
        {
          "output_type": "execute_result",
          "data": {
            "text/plain": [
              "array([[<Axes: title={'center': 'label'}>]], dtype=object)"
            ]
          },
          "metadata": {},
          "execution_count": 3
        },
        {
          "output_type": "display_data",
          "data": {
            "text/plain": [
              "<Figure size 640x480 with 1 Axes>"
            ],
            "image/png": "[encoded data removed]"
          },
          "metadata": {}
        }
      ]
    },
    {
      "cell_type": "code",
      "source": [
        "from collections import Counter\n",
        "import pymorphy3\n",
        "\n",
        "# Словарь для хранения слов по классам\n",
        "class_words = {}\n",
        "\n",
        "# Проходим по каждому классу и собираем слова\n",
        "for label in data['label'].unique():\n",
        "    # Извлечение текстов для данного класса\n",
        "    texts = data[data['label'] == label]['transcription']\n",
        "    # Объединяем все тексты и очищаем\n",
        "    all_words = []\n",
        "    for text in texts:\n",
        "      if isinstance(text, str):\n",
        "        all_words.extend(text.split())\n",
        "\n",
        "    texts = data[data['label'] == label]['text']\n",
        "    for text in texts:\n",
        "        all_words.extend(text.split())\n",
        "\n",
        "    # Подсчет частоты слов\n",
        "    word_counts = Counter(all_words)\n",
        "    # Сохраняем наиболее частые слова\n",
        "    morph = pymorphy3.MorphAnalyzer(lang='ru')\n",
        "\n",
        "    res = set()\n",
        "    for word, _ in word_counts.most_common(10):\n",
        "      parsed =  morph.parse(word)[0]\n",
        "      if parsed.tag.POS != 'NUMR' and parsed.normal_form != 'вагон':\n",
        "        res.add(parsed.normal_form)\n",
        "    class_words[label] = list(res)\n",
        "\n",
        "# Вывод результатов\n",
        "for label, words in class_words.items():\n",
        "    print(f\"Наиболее частые слова для класса '{label}': {words}\")\n",
        "    print()"
      ],
      "metadata": {
        "colab": {
          "base_uri": "https://localhost:8080/"
        },
        "id": "dTJPwVEBCBxv",
        "outputId": "2ba5607c-6bf8-40c3-beb3-6c1deea39784"
      },
      "execution_count": null,
      "outputs": [
        {
          "output_type": "stream",
          "name": "stdout",
          "text": [
            "Наиболее частые слова для класса '10': ['на', 'протянуть', 'один']\n",
            "\n",
            "Наиболее частые слова для класса '4': ['на', 'один', 'осадить']\n",
            "\n",
            "Наиболее частые слова для класса '0': ['так', 'отказ', 'отправить', 'а', 'атас']\n",
            "\n",
            "Наиболее частые слова для класса '13': ['в', 'погрузить', 'простой', 'пространство', 'заходить', 'разложить', 'межвагонный', 'ньюкасл', 'пока', 'входить']\n",
            "\n",
            "Наиболее частые слова для класса '19': ['вперёд', 'брать', 'перед', 'зновый', 'берег', 'подборка', 'башмак', 'век', 'с', 'верёвка']\n",
            "\n",
            "Наиболее частые слова для класса '7': ['в', 'из', 'пространство', 'не', 'межвагонный', 'выйти']\n",
            "\n",
            "Наиболее частые слова для класса '2': ['обсуждение', 'от', 'в', 'отверждение', 'убеждение', 'впереди', 'подтверждение', 'утверждение', 'рождение', 'день']\n",
            "\n",
            "Наиболее частые слова для класса '1': ['ответ', 'в', 'знать', 'ладный', 'приятно', 'не', 'хрен', 'отмена', 'обмен', 'а']\n",
            "\n",
            "Наиболее частые слова для класса '8': ['умереть', 'руководство', 'рок', 'нарушать', 'уже', 'продолжать', 'роза', 'роспуск', 'рост', 'рон']\n",
            "\n",
            "Наиболее частые слова для класса '3': ['осаживание', 'начать', 'вы', 'сейчас', 'скважина', 'опять', 'рост', 'наследство', 'хотеть', 'красота']\n",
            "\n",
            "Наиболее частые слова для класса '20': ['прекратить', 'говорить', 'магистраль', 'заря', 'горе', 'звать', 'кран', 'выключить', 'тормозной', 'зарядка']\n",
            "\n",
            "Наиболее частые слова для класса '6': ['в', 'магистраль', 'же', 'быстро', 'у', 'тормозной', 'сон', 'зарядка', 'назвать']\n",
            "\n",
            "Наиболее частые слова для класса '16': ['в', 'автосцепка', 'шаг', 'осмыслить', 'этот', 'джек', 'оставить', 'джада', 'вызов', 'сжать']\n",
            "\n",
            "Наиболее частые слова для класса '12': ['возможно', 'на', 'монтажный', 'народ', 'дойти', 'башмак', 'сноб', 'не', 'назад', 'о']\n",
            "\n",
            "Наиболее частые слова для класса '14': ['слово', 'по', 'остановка', 'стать', 'страна', 'сторонка', 'стан', 'звонок', 'а']\n",
            "\n",
            "Наиболее частые слова для класса '15': ['вперёд', 'брать', 'перед', 'отвести', 'берег', 'на', 'башмак', 'ряд', 'вероятно', 'идти']\n",
            "\n",
            "Наиболее частые слова для класса '5': ['осаживание', 'наш', 'ты', 'многие', 'уже', 'продолжать', 'стаж', 'голодать', 'охота', 'полагать']\n",
            "\n",
            "Наиболее частые слова для класса '17': ['жан', 'как', 'башмак', 'этот', 'сзади', 'назад', 'с', 'вещество', 'конечно', 'пока']\n",
            "\n",
            "Наиболее частые слова для класса '9': ['мусор', 'ну', 'автосцепка', 'просто', 'так', 'многие', 'и', 'растянуть', 'смысл', 'а']\n",
            "\n",
            "Наиболее частые слова для класса '18': ['тихо', 'десятка', 'писать', 'тихий', 'ещё', 'описывать', 'что', 'час', 'джек', 'я']\n",
            "\n",
            "Наиболее частые слова для класса '11': ['оценка', 'отзыв', 'отец', 'церковь', 'про', 'отцепка']\n",
            "\n",
            "Наиболее частые слова для класса '21': ['тормозить']\n",
            "\n",
            "Наиболее частые слова для класса '22': ['стоить', 'отпустить', 'это']\n",
            "\n"
          ]
        }
      ]
    },
    {
      "cell_type": "code",
      "source": [
        "import pandas as pd\n",
        "from sklearn.model_selection import train_test_split\n",
        "from sklearn.metrics import classification_report\n",
        "\n",
        "\n",
        "# 2. Определение ключевых слов\n",
        "keywords = class_words\n",
        "\n",
        "# 3. Создание признакового пространства\n",
        "def create_features(text, keywords):\n",
        "    \"\"\"\n",
        "    Считает, сколько раз ключевые слова каждого класса встречались в примере\n",
        "\n",
        "    Args:\n",
        "        text (str): Текстовая транскрибция команды\n",
        "        keywords (dict): Словарь формата {класс: [ключевые слова]}\n",
        "\n",
        "    Returns:\n",
        "        dict: Словарь формата {класс: сколько раз ключевые слова этого\n",
        "         класса встречались в строке}\n",
        "    \"\"\"\n",
        "\n",
        "    features = {}\n",
        "    for class_label, words in keywords.items():\n",
        "      cur = 0\n",
        "      for word in words:\n",
        "        if word in text:\n",
        "          cur += 1\n",
        "      features[class_label] = cur\n",
        "    return features\n",
        "\n",
        "\n",
        "def classify(text, keywords):\n",
        "  \"\"\"\n",
        "  Классификация текстовых транскрибций команд\n",
        "\n",
        "  Args:\n",
        "      text (str): Текстовая транскрибция команды\n",
        "      keywords (dict): Словарь формата {класс: [ключевые слова]}\n",
        "\n",
        "  Returns:\n",
        "      int:  Предсказанный label\n",
        "  \"\"\"\n",
        "\n",
        "  # Получение словаря частоты встречаемости слов\n",
        "  features = pd.Series(create_features(text, keywords))\n",
        "  # Выбранный клас - тот, чьи слова встрчеаются чаще всего\n",
        "  return features.idxmax()\n"
      ],
      "metadata": {
        "id": "UdTGxz6y5G5E"
      },
      "execution_count": null,
      "outputs": []
    },
    {
      "cell_type": "code",
      "source": [
        "# Тестирование\n",
        "test = pd.read_csv('/content/validation_data_with_transcriptions.csv')\n",
        "test['transcription'] = test.apply(lambda x: '' if not isinstance(x['transcription'], str) else x['transcription'], axis=1)\n",
        "\n",
        "# Применяем функцию к каждому примеру\n",
        "features = test['transcription'].apply(lambda x: create_features(x.split(), keywords)).tolist()\n",
        "features_df = pd.DataFrame(features)\n",
        "features_df['label'] = test['label']\n",
        "features_df['predicted_label'] = features_df.apply(lambda x: x.iloc[:-1].idxmax(), axis=1)"
      ],
      "metadata": {
        "id": "kEEBiWH7iFfs"
      },
      "execution_count": null,
      "outputs": []
    },
    {
      "cell_type": "code",
      "source": [
        "from sklearn.metrics import f1_score\n",
        "\n",
        "print(f1_score(features_df['label'], features_df['predicted_label'],  average='weighted'))\n"
      ],
      "metadata": {
        "colab": {
          "base_uri": "https://localhost:8080/"
        },
        "id": "DVUDAAwZknwD",
        "outputId": "d528ecdf-290f-46f8-b9c4-c52df6ed0b71"
      },
      "execution_count": null,
      "outputs": [
        {
          "output_type": "stream",
          "name": "stdout",
          "text": [
            "0.8054791370089651\n"
          ]
        }
      ]
    },
    {
      "cell_type": "code",
      "source": [
        "import json\n",
        "\n",
        "j = json.dumps(keywords, indent=4)\n",
        "with open('keywords.json', 'w') as f:\n",
        "    print(j, file=f)"
      ],
      "metadata": {
        "id": "s61X01vBqh5Q"
      },
      "execution_count": null,
      "outputs": []
    },
    {
      "cell_type": "code",
      "source": [
        "with open('keywords.json', 'r') as f:\n",
        "  keywords = json.load(f)\n",
        "  print(keywords)"
      ],
      "metadata": {
        "colab": {
          "base_uri": "https://localhost:8080/"
        },
        "id": "yKdq-erIrTUb",
        "outputId": "414676b4-5819-4363-de9b-9f94325b744e"
      },
      "execution_count": null,
      "outputs": [
        {
          "output_type": "stream",
          "name": "stdout",
          "text": [
            "{'17': ['назад', 'с', 'башмака'], '20': ['прекратить', 'зарядку', 'тормозной', 'магистрали'], '4': ['осадить', 'на', 'вагонов', 'вагона', 'двадцать', 'восемь', 'семь', 'шесть', 'двенадцать', 'четыре'], '6': ['зарядка', 'тормозной', 'магистрали'], '7': ['вышел', 'межвагонного', 'пространства', 'из', 'в'], '10': ['протянуть', 'на', 'вагонов', 'двадцать', 'вагона', 'семь', 'шесть', 'восемь', 'шестнадцать', 'девять'], '15': ['вперед', 'на', 'башмак'], '19': ['вперед', 'с', 'башмака'], '14': ['остановка'], '11': ['отцепка'], '0': ['отказ'], '9': ['растянуть', 'автосцепки'], '8': ['продолжаем', 'роспуск'], '13': ['захожу', 'в', 'межвагонное', 'пространство'], '21': ['тормозить'], '1': ['отмена'], '18': ['тише'], '22': ['отпустить'], '3': ['начать', 'осаживание'], '16': ['сжать', 'автосцепки'], '5': ['продолжаем', 'осаживание'], '12': ['назад', 'на', 'башмак'], '2': ['подтверждение']}\n"
          ]
        }
      ]
    }
  ]
}